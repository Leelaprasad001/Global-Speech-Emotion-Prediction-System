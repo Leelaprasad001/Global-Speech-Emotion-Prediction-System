{
 "cells": [
  {
   "cell_type": "code",
   "execution_count": 2,
   "id": "b5ebc02d",
   "metadata": {},
   "outputs": [],
   "source": [
    "import pandas as pd\n",
    "import warnings\n",
    "import re"
   ]
  },
  {
   "cell_type": "code",
   "execution_count": 3,
   "id": "8cda0e6f",
   "metadata": {},
   "outputs": [],
   "source": [
    "warnings.filterwarnings(\"ignore\")"
   ]
  },
  {
   "cell_type": "code",
   "execution_count": 4,
   "id": "10369c36",
   "metadata": {},
   "outputs": [],
   "source": [
    "df=pd.read_csv(r'Datathon_TrainData_org.csv')"
   ]
  },
  {
   "cell_type": "code",
   "execution_count": 5,
   "id": "898015c1",
   "metadata": {},
   "outputs": [
    {
     "name": "stdout",
     "output_type": "stream",
     "text": [
      "<class 'pandas.core.frame.DataFrame'>\n",
      "RangeIndex: 1617 entries, 0 to 1616\n",
      "Data columns (total 10 columns):\n",
      " #   Column                Non-Null Count  Dtype \n",
      "---  ------                --------------  ----- \n",
      " 0   Country               1614 non-null   object\n",
      " 1   Date                  1614 non-null   object\n",
      " 2   Speaker               1613 non-null   object\n",
      " 3   Headline              1612 non-null   object\n",
      " 4   Text_of_Speech        1611 non-null   object\n",
      " 5   Designation           1605 non-null   object\n",
      " 6   Running President/PM  1605 non-null   object\n",
      " 7   Speech Link           1605 non-null   object\n",
      " 8   Emotion               1605 non-null   object\n",
      " 9   Context               1605 non-null   object\n",
      "dtypes: object(10)\n",
      "memory usage: 126.5+ KB\n",
      "None\n"
     ]
    }
   ],
   "source": [
    "summary=df.info()\n",
    "print(summary)"
   ]
  },
  {
   "cell_type": "markdown",
   "id": "b223c3b0",
   "metadata": {},
   "source": [
    "# dropping unwanted rows"
   ]
  },
  {
   "cell_type": "code",
   "execution_count": 6,
   "id": "e36b80ef",
   "metadata": {},
   "outputs": [],
   "source": [
    "df = df.drop(columns=['Country', 'Date','Speaker','Headline','Running President/PM','Designation','Speech Link','Context'])"
   ]
  },
  {
   "cell_type": "code",
   "execution_count": 7,
   "id": "00c97275",
   "metadata": {},
   "outputs": [
    {
     "data": {
      "text/html": [
       "<div>\n",
       "<style scoped>\n",
       "    .dataframe tbody tr th:only-of-type {\n",
       "        vertical-align: middle;\n",
       "    }\n",
       "\n",
       "    .dataframe tbody tr th {\n",
       "        vertical-align: top;\n",
       "    }\n",
       "\n",
       "    .dataframe thead th {\n",
       "        text-align: right;\n",
       "    }\n",
       "</style>\n",
       "<table border=\"1\" class=\"dataframe\">\n",
       "  <thead>\n",
       "    <tr style=\"text-align: right;\">\n",
       "      <th></th>\n",
       "      <th>Text_of_Speech</th>\n",
       "      <th>Emotion</th>\n",
       "    </tr>\n",
       "  </thead>\n",
       "  <tbody>\n",
       "    <tr>\n",
       "      <th>0</th>\n",
       "      <td>Esteemed Mr Lebedev,\\n\\nLadies and Gentlemen:\\...</td>\n",
       "      <td>UPSET</td>\n",
       "    </tr>\n",
       "    <tr>\n",
       "      <th>1</th>\n",
       "      <td>THE PRESIDENT:  Good evening, my fellow Americ...</td>\n",
       "      <td>OPTIMISM</td>\n",
       "    </tr>\n",
       "    <tr>\n",
       "      <th>2</th>\n",
       "      <td>Good afternoon, dear colleagues,\\n\\nOur meetin...</td>\n",
       "      <td>NEUTRAL</td>\n",
       "    </tr>\n",
       "    <tr>\n",
       "      <th>3</th>\n",
       "      <td>Good afternoon, everybody. This sound system i...</td>\n",
       "      <td>NEUTRAL</td>\n",
       "    </tr>\n",
       "    <tr>\n",
       "      <th>4</th>\n",
       "      <td>More Americans voted in the 2020 elections tha...</td>\n",
       "      <td>UPSET</td>\n",
       "    </tr>\n",
       "    <tr>\n",
       "      <th>...</th>\n",
       "      <td>...</td>\n",
       "      <td>...</td>\n",
       "    </tr>\n",
       "    <tr>\n",
       "      <th>1612</th>\n",
       "      <td>Good afternoon I have just been to see Her Maj...</td>\n",
       "      <td>OPTIMISM</td>\n",
       "    </tr>\n",
       "    <tr>\n",
       "      <th>1613</th>\n",
       "      <td>This February, during Black History Month, I c...</td>\n",
       "      <td>OPTIMISM</td>\n",
       "    </tr>\n",
       "    <tr>\n",
       "      <th>1614</th>\n",
       "      <td>Thank you so much.  Everybody have a seat.  We...</td>\n",
       "      <td>NEUTRAL</td>\n",
       "    </tr>\n",
       "    <tr>\n",
       "      <th>1615</th>\n",
       "      <td>Colleagues,\\nFriends,\\n\\nIn 2013, President Xi...</td>\n",
       "      <td>JOY</td>\n",
       "    </tr>\n",
       "    <tr>\n",
       "      <th>1616</th>\n",
       "      <td>Secretary of State John Kerry,\\nSecretary of t...</td>\n",
       "      <td>OPTIMISM</td>\n",
       "    </tr>\n",
       "  </tbody>\n",
       "</table>\n",
       "<p>1617 rows × 2 columns</p>\n",
       "</div>"
      ],
      "text/plain": [
       "                                         Text_of_Speech   Emotion\n",
       "0     Esteemed Mr Lebedev,\\n\\nLadies and Gentlemen:\\...     UPSET\n",
       "1     THE PRESIDENT:  Good evening, my fellow Americ...  OPTIMISM\n",
       "2     Good afternoon, dear colleagues,\\n\\nOur meetin...   NEUTRAL\n",
       "3     Good afternoon, everybody. This sound system i...   NEUTRAL\n",
       "4     More Americans voted in the 2020 elections tha...     UPSET\n",
       "...                                                 ...       ...\n",
       "1612  Good afternoon I have just been to see Her Maj...  OPTIMISM\n",
       "1613  This February, during Black History Month, I c...  OPTIMISM\n",
       "1614  Thank you so much.  Everybody have a seat.  We...   NEUTRAL\n",
       "1615  Colleagues,\\nFriends,\\n\\nIn 2013, President Xi...       JOY\n",
       "1616  Secretary of State John Kerry,\\nSecretary of t...  OPTIMISM\n",
       "\n",
       "[1617 rows x 2 columns]"
      ]
     },
     "execution_count": 7,
     "metadata": {},
     "output_type": "execute_result"
    }
   ],
   "source": [
    "df"
   ]
  },
  {
   "cell_type": "code",
   "execution_count": 8,
   "id": "911eed46",
   "metadata": {},
   "outputs": [
    {
     "name": "stdout",
     "output_type": "stream",
     "text": [
      "Total Counts of both sets\n",
      " NEUTRAL     477\n",
      "OPTIMISM    467\n",
      "JOY         422\n",
      "UPSET       239\n",
      "Name: Emotion, dtype: int64\n"
     ]
    }
   ],
   "source": [
    "import matplotlib.pyplot as plt\n",
    "import seaborn as sns\n",
    "from seaborn import countplot\n",
    "from matplotlib.pyplot import suptitle\n",
    "%matplotlib inline\n",
    "\n",
    "#counts of sincere and insincere question texts:\n",
    "count=df['Emotion'].value_counts()\n",
    "print('Total Counts of both sets\\n'.format(),count)"
   ]
  },
  {
   "cell_type": "code",
   "execution_count": 9,
   "id": "24d7065b",
   "metadata": {},
   "outputs": [
    {
     "data": {
      "image/png": "[encoded data removed]",
      "text/plain": [
       "<Figure size 1000x500 with 1 Axes>"
      ]
     },
     "metadata": {},
     "output_type": "display_data"
    }
   ],
   "source": [
    "# Create the count plot\n",
    "plt.figure(figsize=(10, 5))\n",
    "sns.countplot(y=\"Emotion\", palette=['maroon', 'blue', 'green', 'orange'], data=df)\n",
    "plt.suptitle(\"Count values of Sentiment Labels\")\n",
    "plt.xlabel(\"Number of Questions\")\n",
    "plt.show()"
   ]
  },
  {
   "cell_type": "code",
   "execution_count": null,
   "id": "13044808",
   "metadata": {},
   "outputs": [],
   "source": []
  },
  {
   "cell_type": "markdown",
   "id": "89f8fd8e",
   "metadata": {},
   "source": [
    "# checking null count in each column in df"
   ]
  },
  {
   "cell_type": "code",
   "execution_count": 10,
   "id": "77a249b3",
   "metadata": {},
   "outputs": [
    {
     "name": "stdout",
     "output_type": "stream",
     "text": [
      "Null counts for each column:\n",
      "Text_of_Speech     6\n",
      "Emotion           12\n",
      "dtype: int64\n"
     ]
    }
   ],
   "source": [
    "null_counts = df.isnull().sum()\n",
    "print(\"Null counts for each column:\")\n",
    "print(null_counts)"
   ]
  },
  {
   "cell_type": "markdown",
   "id": "4b9a0d75",
   "metadata": {},
   "source": [
    "# labels cleaning"
   ]
  },
  {
   "cell_type": "code",
   "execution_count": 11,
   "id": "45800f5e",
   "metadata": {},
   "outputs": [
    {
     "data": {
      "text/plain": [
       "12"
      ]
     },
     "execution_count": 11,
     "metadata": {},
     "output_type": "execute_result"
    }
   ],
   "source": [
    "df['Emotion'].isnull().sum()"
   ]
  },
  {
   "cell_type": "code",
   "execution_count": 12,
   "id": "52e7baf4",
   "metadata": {},
   "outputs": [],
   "source": [
    "labels=df['Emotion'].unique()"
   ]
  },
  {
   "cell_type": "code",
   "execution_count": 13,
   "id": "2334b914",
   "metadata": {},
   "outputs": [
    {
     "data": {
      "text/plain": [
       "array(['UPSET', 'OPTIMISM', 'NEUTRAL', 'JOY', nan], dtype=object)"
      ]
     },
     "execution_count": 13,
     "metadata": {},
     "output_type": "execute_result"
    }
   ],
   "source": [
    "labels"
   ]
  },
  {
   "cell_type": "code",
   "execution_count": 14,
   "id": "622f6d8c",
   "metadata": {},
   "outputs": [],
   "source": [
    "df= df.dropna(subset=['Emotion'])"
   ]
  },
  {
   "cell_type": "code",
   "execution_count": 15,
   "id": "a855e8d0",
   "metadata": {},
   "outputs": [],
   "source": [
    "labels=df['Emotion'].unique()"
   ]
  },
  {
   "cell_type": "code",
   "execution_count": 16,
   "id": "cc15068b",
   "metadata": {},
   "outputs": [
    {
     "data": {
      "text/plain": [
       "array(['UPSET', 'OPTIMISM', 'NEUTRAL', 'JOY'], dtype=object)"
      ]
     },
     "execution_count": 16,
     "metadata": {},
     "output_type": "execute_result"
    }
   ],
   "source": [
    "labels"
   ]
  },
  {
   "cell_type": "code",
   "execution_count": 17,
   "id": "e434f18f",
   "metadata": {},
   "outputs": [
    {
     "data": {
      "text/plain": [
       "0"
      ]
     },
     "execution_count": 17,
     "metadata": {},
     "output_type": "execute_result"
    }
   ],
   "source": [
    "df['Emotion'].isnull().sum()"
   ]
  },
  {
   "cell_type": "markdown",
   "id": "69af8883",
   "metadata": {},
   "source": [
    "# text null values"
   ]
  },
  {
   "cell_type": "code",
   "execution_count": 18,
   "id": "bc3e104d",
   "metadata": {},
   "outputs": [
    {
     "data": {
      "text/plain": [
       "0"
      ]
     },
     "execution_count": 18,
     "metadata": {},
     "output_type": "execute_result"
    }
   ],
   "source": [
    "df['Text_of_Speech'].isnull().sum()"
   ]
  },
  {
   "cell_type": "markdown",
   "id": "8d2c05c2",
   "metadata": {},
   "source": [
    "# preprocessing of Text_of_Speech"
   ]
  },
  {
   "cell_type": "markdown",
   "id": "dc728490",
   "metadata": {},
   "source": [
    "# convert to lower"
   ]
  },
  {
   "cell_type": "code",
   "execution_count": 19,
   "id": "645d7cb3",
   "metadata": {},
   "outputs": [],
   "source": [
    "def lower(x):\n",
    "    return x.lower()\n",
    "df['Text_of_Speech']=df['Text_of_Speech'].apply(lower)    "
   ]
  },
  {
   "cell_type": "code",
   "execution_count": 20,
   "id": "32654241",
   "metadata": {},
   "outputs": [
    {
     "data": {
      "text/html": [
       "<div>\n",
       "<style scoped>\n",
       "    .dataframe tbody tr th:only-of-type {\n",
       "        vertical-align: middle;\n",
       "    }\n",
       "\n",
       "    .dataframe tbody tr th {\n",
       "        vertical-align: top;\n",
       "    }\n",
       "\n",
       "    .dataframe thead th {\n",
       "        text-align: right;\n",
       "    }\n",
       "</style>\n",
       "<table border=\"1\" class=\"dataframe\">\n",
       "  <thead>\n",
       "    <tr style=\"text-align: right;\">\n",
       "      <th></th>\n",
       "      <th>Text_of_Speech</th>\n",
       "      <th>Emotion</th>\n",
       "    </tr>\n",
       "  </thead>\n",
       "  <tbody>\n",
       "    <tr>\n",
       "      <th>0</th>\n",
       "      <td>esteemed mr lebedev,\\n\\nladies and gentlemen:\\...</td>\n",
       "      <td>UPSET</td>\n",
       "    </tr>\n",
       "    <tr>\n",
       "      <th>1</th>\n",
       "      <td>the president:  good evening, my fellow americ...</td>\n",
       "      <td>OPTIMISM</td>\n",
       "    </tr>\n",
       "    <tr>\n",
       "      <th>2</th>\n",
       "      <td>good afternoon, dear colleagues,\\n\\nour meetin...</td>\n",
       "      <td>NEUTRAL</td>\n",
       "    </tr>\n",
       "    <tr>\n",
       "      <th>3</th>\n",
       "      <td>good afternoon, everybody. this sound system i...</td>\n",
       "      <td>NEUTRAL</td>\n",
       "    </tr>\n",
       "    <tr>\n",
       "      <th>4</th>\n",
       "      <td>more americans voted in the 2020 elections tha...</td>\n",
       "      <td>UPSET</td>\n",
       "    </tr>\n",
       "    <tr>\n",
       "      <th>...</th>\n",
       "      <td>...</td>\n",
       "      <td>...</td>\n",
       "    </tr>\n",
       "    <tr>\n",
       "      <th>1612</th>\n",
       "      <td>good afternoon i have just been to see her maj...</td>\n",
       "      <td>OPTIMISM</td>\n",
       "    </tr>\n",
       "    <tr>\n",
       "      <th>1613</th>\n",
       "      <td>this february, during black history month, i c...</td>\n",
       "      <td>OPTIMISM</td>\n",
       "    </tr>\n",
       "    <tr>\n",
       "      <th>1614</th>\n",
       "      <td>thank you so much.  everybody have a seat.  we...</td>\n",
       "      <td>NEUTRAL</td>\n",
       "    </tr>\n",
       "    <tr>\n",
       "      <th>1615</th>\n",
       "      <td>colleagues,\\nfriends,\\n\\nin 2013, president xi...</td>\n",
       "      <td>JOY</td>\n",
       "    </tr>\n",
       "    <tr>\n",
       "      <th>1616</th>\n",
       "      <td>secretary of state john kerry,\\nsecretary of t...</td>\n",
       "      <td>OPTIMISM</td>\n",
       "    </tr>\n",
       "  </tbody>\n",
       "</table>\n",
       "<p>1605 rows × 2 columns</p>\n",
       "</div>"
      ],
      "text/plain": [
       "                                         Text_of_Speech   Emotion\n",
       "0     esteemed mr lebedev,\\n\\nladies and gentlemen:\\...     UPSET\n",
       "1     the president:  good evening, my fellow americ...  OPTIMISM\n",
       "2     good afternoon, dear colleagues,\\n\\nour meetin...   NEUTRAL\n",
       "3     good afternoon, everybody. this sound system i...   NEUTRAL\n",
       "4     more americans voted in the 2020 elections tha...     UPSET\n",
       "...                                                 ...       ...\n",
       "1612  good afternoon i have just been to see her maj...  OPTIMISM\n",
       "1613  this february, during black history month, i c...  OPTIMISM\n",
       "1614  thank you so much.  everybody have a seat.  we...   NEUTRAL\n",
       "1615  colleagues,\\nfriends,\\n\\nin 2013, president xi...       JOY\n",
       "1616  secretary of state john kerry,\\nsecretary of t...  OPTIMISM\n",
       "\n",
       "[1605 rows x 2 columns]"
      ]
     },
     "execution_count": 20,
     "metadata": {},
     "output_type": "execute_result"
    }
   ],
   "source": [
    "df"
   ]
  },
  {
   "cell_type": "markdown",
   "id": "a27adca1",
   "metadata": {},
   "source": [
    "# replace emojis with words if present"
   ]
  },
  {
   "cell_type": "code",
   "execution_count": 21,
   "id": "d6cd6f2d",
   "metadata": {},
   "outputs": [],
   "source": [
    "from emot.emo_unicode import UNICODE_EMOJI\n",
    "# Function for converting emojis into word\n",
    "def convert_emojis(text):\n",
    "    for emot in UNICODE_EMOJI:\n",
    "        text = text.replace(emot, \"_\".join(UNICODE_EMOJI[emot].replace(\",\",\"\").replace(\":\",\"\").split()))\n",
    "    return text  \n",
    "df['Text_of_Speech'] = df['Text_of_Speech'].apply(convert_emojis)"
   ]
  },
  {
   "cell_type": "code",
   "execution_count": 22,
   "id": "922009c2",
   "metadata": {},
   "outputs": [
    {
     "data": {
      "text/html": [
       "<div>\n",
       "<style scoped>\n",
       "    .dataframe tbody tr th:only-of-type {\n",
       "        vertical-align: middle;\n",
       "    }\n",
       "\n",
       "    .dataframe tbody tr th {\n",
       "        vertical-align: top;\n",
       "    }\n",
       "\n",
       "    .dataframe thead th {\n",
       "        text-align: right;\n",
       "    }\n",
       "</style>\n",
       "<table border=\"1\" class=\"dataframe\">\n",
       "  <thead>\n",
       "    <tr style=\"text-align: right;\">\n",
       "      <th></th>\n",
       "      <th>Text_of_Speech</th>\n",
       "      <th>Emotion</th>\n",
       "    </tr>\n",
       "  </thead>\n",
       "  <tbody>\n",
       "    <tr>\n",
       "      <th>0</th>\n",
       "      <td>esteemed mr lebedev,\\n\\nladies and gentlemen:\\...</td>\n",
       "      <td>UPSET</td>\n",
       "    </tr>\n",
       "    <tr>\n",
       "      <th>1</th>\n",
       "      <td>the president:  good evening, my fellow americ...</td>\n",
       "      <td>OPTIMISM</td>\n",
       "    </tr>\n",
       "    <tr>\n",
       "      <th>2</th>\n",
       "      <td>good afternoon, dear colleagues,\\n\\nour meetin...</td>\n",
       "      <td>NEUTRAL</td>\n",
       "    </tr>\n",
       "    <tr>\n",
       "      <th>3</th>\n",
       "      <td>good afternoon, everybody. this sound system i...</td>\n",
       "      <td>NEUTRAL</td>\n",
       "    </tr>\n",
       "    <tr>\n",
       "      <th>4</th>\n",
       "      <td>more americans voted in the 2020 elections tha...</td>\n",
       "      <td>UPSET</td>\n",
       "    </tr>\n",
       "    <tr>\n",
       "      <th>...</th>\n",
       "      <td>...</td>\n",
       "      <td>...</td>\n",
       "    </tr>\n",
       "    <tr>\n",
       "      <th>1612</th>\n",
       "      <td>good afternoon i have just been to see her maj...</td>\n",
       "      <td>OPTIMISM</td>\n",
       "    </tr>\n",
       "    <tr>\n",
       "      <th>1613</th>\n",
       "      <td>this february, during black history month, i c...</td>\n",
       "      <td>OPTIMISM</td>\n",
       "    </tr>\n",
       "    <tr>\n",
       "      <th>1614</th>\n",
       "      <td>thank you so much.  everybody have a seat.  we...</td>\n",
       "      <td>NEUTRAL</td>\n",
       "    </tr>\n",
       "    <tr>\n",
       "      <th>1615</th>\n",
       "      <td>colleagues,\\nfriends,\\n\\nin 2013, president xi...</td>\n",
       "      <td>JOY</td>\n",
       "    </tr>\n",
       "    <tr>\n",
       "      <th>1616</th>\n",
       "      <td>secretary of state john kerry,\\nsecretary of t...</td>\n",
       "      <td>OPTIMISM</td>\n",
       "    </tr>\n",
       "  </tbody>\n",
       "</table>\n",
       "<p>1605 rows × 2 columns</p>\n",
       "</div>"
      ],
      "text/plain": [
       "                                         Text_of_Speech   Emotion\n",
       "0     esteemed mr lebedev,\\n\\nladies and gentlemen:\\...     UPSET\n",
       "1     the president:  good evening, my fellow americ...  OPTIMISM\n",
       "2     good afternoon, dear colleagues,\\n\\nour meetin...   NEUTRAL\n",
       "3     good afternoon, everybody. this sound system i...   NEUTRAL\n",
       "4     more americans voted in the 2020 elections tha...     UPSET\n",
       "...                                                 ...       ...\n",
       "1612  good afternoon i have just been to see her maj...  OPTIMISM\n",
       "1613  this february, during black history month, i c...  OPTIMISM\n",
       "1614  thank you so much.  everybody have a seat.  we...   NEUTRAL\n",
       "1615  colleagues,\\nfriends,\\n\\nin 2013, president xi...       JOY\n",
       "1616  secretary of state john kerry,\\nsecretary of t...  OPTIMISM\n",
       "\n",
       "[1605 rows x 2 columns]"
      ]
     },
     "execution_count": 22,
     "metadata": {},
     "output_type": "execute_result"
    }
   ],
   "source": [
    "df"
   ]
  },
  {
   "cell_type": "markdown",
   "id": "f338be5d",
   "metadata": {},
   "source": [
    "# tokenize"
   ]
  },
  {
   "cell_type": "code",
   "execution_count": 23,
   "id": "021102fa",
   "metadata": {},
   "outputs": [],
   "source": [
    "from nltk.tokenize import word_tokenize\n",
    "def tokenize(x):\n",
    "    return word_tokenize(x)\n",
    "df['Text_of_Speech']=df['Text_of_Speech'].apply(tokenize)"
   ]
  },
  {
   "cell_type": "code",
   "execution_count": 24,
   "id": "91f99ebd",
   "metadata": {},
   "outputs": [
    {
     "data": {
      "text/html": [
       "<div>\n",
       "<style scoped>\n",
       "    .dataframe tbody tr th:only-of-type {\n",
       "        vertical-align: middle;\n",
       "    }\n",
       "\n",
       "    .dataframe tbody tr th {\n",
       "        vertical-align: top;\n",
       "    }\n",
       "\n",
       "    .dataframe thead th {\n",
       "        text-align: right;\n",
       "    }\n",
       "</style>\n",
       "<table border=\"1\" class=\"dataframe\">\n",
       "  <thead>\n",
       "    <tr style=\"text-align: right;\">\n",
       "      <th></th>\n",
       "      <th>Text_of_Speech</th>\n",
       "      <th>Emotion</th>\n",
       "    </tr>\n",
       "  </thead>\n",
       "  <tbody>\n",
       "    <tr>\n",
       "      <th>0</th>\n",
       "      <td>[esteemed, mr, lebedev, ,, ladies, and, gentle...</td>\n",
       "      <td>UPSET</td>\n",
       "    </tr>\n",
       "    <tr>\n",
       "      <th>1</th>\n",
       "      <td>[the, president, :, good, evening, ,, my, fell...</td>\n",
       "      <td>OPTIMISM</td>\n",
       "    </tr>\n",
       "    <tr>\n",
       "      <th>2</th>\n",
       "      <td>[good, afternoon, ,, dear, colleagues, ,, our,...</td>\n",
       "      <td>NEUTRAL</td>\n",
       "    </tr>\n",
       "    <tr>\n",
       "      <th>3</th>\n",
       "      <td>[good, afternoon, ,, everybody, ., this, sound...</td>\n",
       "      <td>NEUTRAL</td>\n",
       "    </tr>\n",
       "    <tr>\n",
       "      <th>4</th>\n",
       "      <td>[more, americans, voted, in, the, 2020, electi...</td>\n",
       "      <td>UPSET</td>\n",
       "    </tr>\n",
       "    <tr>\n",
       "      <th>...</th>\n",
       "      <td>...</td>\n",
       "      <td>...</td>\n",
       "    </tr>\n",
       "    <tr>\n",
       "      <th>1612</th>\n",
       "      <td>[good, afternoon, i, have, just, been, to, see...</td>\n",
       "      <td>OPTIMISM</td>\n",
       "    </tr>\n",
       "    <tr>\n",
       "      <th>1613</th>\n",
       "      <td>[this, february, ,, during, black, history, mo...</td>\n",
       "      <td>OPTIMISM</td>\n",
       "    </tr>\n",
       "    <tr>\n",
       "      <th>1614</th>\n",
       "      <td>[thank, you, so, much, ., everybody, have, a, ...</td>\n",
       "      <td>NEUTRAL</td>\n",
       "    </tr>\n",
       "    <tr>\n",
       "      <th>1615</th>\n",
       "      <td>[colleagues, ,, friends, ,, in, 2013, ,, presi...</td>\n",
       "      <td>JOY</td>\n",
       "    </tr>\n",
       "    <tr>\n",
       "      <th>1616</th>\n",
       "      <td>[secretary, of, state, john, kerry, ,, secreta...</td>\n",
       "      <td>OPTIMISM</td>\n",
       "    </tr>\n",
       "  </tbody>\n",
       "</table>\n",
       "<p>1605 rows × 2 columns</p>\n",
       "</div>"
      ],
      "text/plain": [
       "                                         Text_of_Speech   Emotion\n",
       "0     [esteemed, mr, lebedev, ,, ladies, and, gentle...     UPSET\n",
       "1     [the, president, :, good, evening, ,, my, fell...  OPTIMISM\n",
       "2     [good, afternoon, ,, dear, colleagues, ,, our,...   NEUTRAL\n",
       "3     [good, afternoon, ,, everybody, ., this, sound...   NEUTRAL\n",
       "4     [more, americans, voted, in, the, 2020, electi...     UPSET\n",
       "...                                                 ...       ...\n",
       "1612  [good, afternoon, i, have, just, been, to, see...  OPTIMISM\n",
       "1613  [this, february, ,, during, black, history, mo...  OPTIMISM\n",
       "1614  [thank, you, so, much, ., everybody, have, a, ...   NEUTRAL\n",
       "1615  [colleagues, ,, friends, ,, in, 2013, ,, presi...       JOY\n",
       "1616  [secretary, of, state, john, kerry, ,, secreta...  OPTIMISM\n",
       "\n",
       "[1605 rows x 2 columns]"
      ]
     },
     "execution_count": 24,
     "metadata": {},
     "output_type": "execute_result"
    }
   ],
   "source": [
    "df"
   ]
  },
  {
   "cell_type": "markdown",
   "id": "980015a7",
   "metadata": {},
   "source": [
    "# remove punctuations"
   ]
  },
  {
   "cell_type": "code",
   "execution_count": 25,
   "id": "f11a0c2f",
   "metadata": {},
   "outputs": [],
   "source": [
    "def remove_punct(x):\n",
    "    import string\n",
    "    punct_tag=set(string.punctuation)\n",
    "    t=[i for i in x if i not in punct_tag]\n",
    "    return t\n",
    "      \n",
    "df['Text_of_Speech']=df['Text_of_Speech'].apply(remove_punct)"
   ]
  },
  {
   "cell_type": "code",
   "execution_count": 26,
   "id": "79b4ce22",
   "metadata": {},
   "outputs": [
    {
     "data": {
      "text/html": [
       "<div>\n",
       "<style scoped>\n",
       "    .dataframe tbody tr th:only-of-type {\n",
       "        vertical-align: middle;\n",
       "    }\n",
       "\n",
       "    .dataframe tbody tr th {\n",
       "        vertical-align: top;\n",
       "    }\n",
       "\n",
       "    .dataframe thead th {\n",
       "        text-align: right;\n",
       "    }\n",
       "</style>\n",
       "<table border=\"1\" class=\"dataframe\">\n",
       "  <thead>\n",
       "    <tr style=\"text-align: right;\">\n",
       "      <th></th>\n",
       "      <th>Text_of_Speech</th>\n",
       "      <th>Emotion</th>\n",
       "    </tr>\n",
       "  </thead>\n",
       "  <tbody>\n",
       "    <tr>\n",
       "      <th>0</th>\n",
       "      <td>[esteemed, mr, lebedev, ladies, and, gentlemen...</td>\n",
       "      <td>UPSET</td>\n",
       "    </tr>\n",
       "    <tr>\n",
       "      <th>1</th>\n",
       "      <td>[the, president, good, evening, my, fellow, am...</td>\n",
       "      <td>OPTIMISM</td>\n",
       "    </tr>\n",
       "    <tr>\n",
       "      <th>2</th>\n",
       "      <td>[good, afternoon, dear, colleagues, our, meeti...</td>\n",
       "      <td>NEUTRAL</td>\n",
       "    </tr>\n",
       "    <tr>\n",
       "      <th>3</th>\n",
       "      <td>[good, afternoon, everybody, this, sound, syst...</td>\n",
       "      <td>NEUTRAL</td>\n",
       "    </tr>\n",
       "    <tr>\n",
       "      <th>4</th>\n",
       "      <td>[more, americans, voted, in, the, 2020, electi...</td>\n",
       "      <td>UPSET</td>\n",
       "    </tr>\n",
       "    <tr>\n",
       "      <th>...</th>\n",
       "      <td>...</td>\n",
       "      <td>...</td>\n",
       "    </tr>\n",
       "    <tr>\n",
       "      <th>1612</th>\n",
       "      <td>[good, afternoon, i, have, just, been, to, see...</td>\n",
       "      <td>OPTIMISM</td>\n",
       "    </tr>\n",
       "    <tr>\n",
       "      <th>1613</th>\n",
       "      <td>[this, february, during, black, history, month...</td>\n",
       "      <td>OPTIMISM</td>\n",
       "    </tr>\n",
       "    <tr>\n",
       "      <th>1614</th>\n",
       "      <td>[thank, you, so, much, everybody, have, a, sea...</td>\n",
       "      <td>NEUTRAL</td>\n",
       "    </tr>\n",
       "    <tr>\n",
       "      <th>1615</th>\n",
       "      <td>[colleagues, friends, in, 2013, president, xi,...</td>\n",
       "      <td>JOY</td>\n",
       "    </tr>\n",
       "    <tr>\n",
       "      <th>1616</th>\n",
       "      <td>[secretary, of, state, john, kerry, secretary,...</td>\n",
       "      <td>OPTIMISM</td>\n",
       "    </tr>\n",
       "  </tbody>\n",
       "</table>\n",
       "<p>1605 rows × 2 columns</p>\n",
       "</div>"
      ],
      "text/plain": [
       "                                         Text_of_Speech   Emotion\n",
       "0     [esteemed, mr, lebedev, ladies, and, gentlemen...     UPSET\n",
       "1     [the, president, good, evening, my, fellow, am...  OPTIMISM\n",
       "2     [good, afternoon, dear, colleagues, our, meeti...   NEUTRAL\n",
       "3     [good, afternoon, everybody, this, sound, syst...   NEUTRAL\n",
       "4     [more, americans, voted, in, the, 2020, electi...     UPSET\n",
       "...                                                 ...       ...\n",
       "1612  [good, afternoon, i, have, just, been, to, see...  OPTIMISM\n",
       "1613  [this, february, during, black, history, month...  OPTIMISM\n",
       "1614  [thank, you, so, much, everybody, have, a, sea...   NEUTRAL\n",
       "1615  [colleagues, friends, in, 2013, president, xi,...       JOY\n",
       "1616  [secretary, of, state, john, kerry, secretary,...  OPTIMISM\n",
       "\n",
       "[1605 rows x 2 columns]"
      ]
     },
     "execution_count": 26,
     "metadata": {},
     "output_type": "execute_result"
    }
   ],
   "source": [
    "df"
   ]
  },
  {
   "cell_type": "markdown",
   "id": "1c1d8ed5",
   "metadata": {},
   "source": [
    "# remove extra white spaces"
   ]
  },
  {
   "cell_type": "code",
   "execution_count": 27,
   "id": "de31965a",
   "metadata": {},
   "outputs": [],
   "source": [
    "def whites(x):\n",
    "    w={' '}\n",
    "    x=[i for i in x if i not in w]\n",
    "    return x\n",
    "df['Text_of_Speech']=df['Text_of_Speech'].apply(whites)    "
   ]
  },
  {
   "cell_type": "code",
   "execution_count": 28,
   "id": "98bf8fab",
   "metadata": {},
   "outputs": [
    {
     "data": {
      "text/html": [
       "<div>\n",
       "<style scoped>\n",
       "    .dataframe tbody tr th:only-of-type {\n",
       "        vertical-align: middle;\n",
       "    }\n",
       "\n",
       "    .dataframe tbody tr th {\n",
       "        vertical-align: top;\n",
       "    }\n",
       "\n",
       "    .dataframe thead th {\n",
       "        text-align: right;\n",
       "    }\n",
       "</style>\n",
       "<table border=\"1\" class=\"dataframe\">\n",
       "  <thead>\n",
       "    <tr style=\"text-align: right;\">\n",
       "      <th></th>\n",
       "      <th>Text_of_Speech</th>\n",
       "      <th>Emotion</th>\n",
       "    </tr>\n",
       "  </thead>\n",
       "  <tbody>\n",
       "    <tr>\n",
       "      <th>0</th>\n",
       "      <td>[esteemed, mr, lebedev, ladies, and, gentlemen...</td>\n",
       "      <td>UPSET</td>\n",
       "    </tr>\n",
       "    <tr>\n",
       "      <th>1</th>\n",
       "      <td>[the, president, good, evening, my, fellow, am...</td>\n",
       "      <td>OPTIMISM</td>\n",
       "    </tr>\n",
       "    <tr>\n",
       "      <th>2</th>\n",
       "      <td>[good, afternoon, dear, colleagues, our, meeti...</td>\n",
       "      <td>NEUTRAL</td>\n",
       "    </tr>\n",
       "    <tr>\n",
       "      <th>3</th>\n",
       "      <td>[good, afternoon, everybody, this, sound, syst...</td>\n",
       "      <td>NEUTRAL</td>\n",
       "    </tr>\n",
       "    <tr>\n",
       "      <th>4</th>\n",
       "      <td>[more, americans, voted, in, the, 2020, electi...</td>\n",
       "      <td>UPSET</td>\n",
       "    </tr>\n",
       "    <tr>\n",
       "      <th>...</th>\n",
       "      <td>...</td>\n",
       "      <td>...</td>\n",
       "    </tr>\n",
       "    <tr>\n",
       "      <th>1612</th>\n",
       "      <td>[good, afternoon, i, have, just, been, to, see...</td>\n",
       "      <td>OPTIMISM</td>\n",
       "    </tr>\n",
       "    <tr>\n",
       "      <th>1613</th>\n",
       "      <td>[this, february, during, black, history, month...</td>\n",
       "      <td>OPTIMISM</td>\n",
       "    </tr>\n",
       "    <tr>\n",
       "      <th>1614</th>\n",
       "      <td>[thank, you, so, much, everybody, have, a, sea...</td>\n",
       "      <td>NEUTRAL</td>\n",
       "    </tr>\n",
       "    <tr>\n",
       "      <th>1615</th>\n",
       "      <td>[colleagues, friends, in, 2013, president, xi,...</td>\n",
       "      <td>JOY</td>\n",
       "    </tr>\n",
       "    <tr>\n",
       "      <th>1616</th>\n",
       "      <td>[secretary, of, state, john, kerry, secretary,...</td>\n",
       "      <td>OPTIMISM</td>\n",
       "    </tr>\n",
       "  </tbody>\n",
       "</table>\n",
       "<p>1605 rows × 2 columns</p>\n",
       "</div>"
      ],
      "text/plain": [
       "                                         Text_of_Speech   Emotion\n",
       "0     [esteemed, mr, lebedev, ladies, and, gentlemen...     UPSET\n",
       "1     [the, president, good, evening, my, fellow, am...  OPTIMISM\n",
       "2     [good, afternoon, dear, colleagues, our, meeti...   NEUTRAL\n",
       "3     [good, afternoon, everybody, this, sound, syst...   NEUTRAL\n",
       "4     [more, americans, voted, in, the, 2020, electi...     UPSET\n",
       "...                                                 ...       ...\n",
       "1612  [good, afternoon, i, have, just, been, to, see...  OPTIMISM\n",
       "1613  [this, february, during, black, history, month...  OPTIMISM\n",
       "1614  [thank, you, so, much, everybody, have, a, sea...   NEUTRAL\n",
       "1615  [colleagues, friends, in, 2013, president, xi,...       JOY\n",
       "1616  [secretary, of, state, john, kerry, secretary,...  OPTIMISM\n",
       "\n",
       "[1605 rows x 2 columns]"
      ]
     },
     "execution_count": 28,
     "metadata": {},
     "output_type": "execute_result"
    }
   ],
   "source": [
    "df"
   ]
  },
  {
   "cell_type": "markdown",
   "id": "31e24423",
   "metadata": {},
   "source": [
    "# stopwords"
   ]
  },
  {
   "cell_type": "code",
   "execution_count": 29,
   "id": "c9ec4a07",
   "metadata": {},
   "outputs": [],
   "source": [
    "from nltk.corpus import stopwords\n",
    "import nltk\n",
    "def re_stop(x):\n",
    "    nltk_stopwords = nltk.corpus.stopwords.words(\"english\")\n",
    "    return [ token for token in x if token not in nltk_stopwords]\n",
    "df['Text_of_Speech']=df['Text_of_Speech'].apply(re_stop)  "
   ]
  },
  {
   "cell_type": "code",
   "execution_count": 30,
   "id": "f76a63c0",
   "metadata": {},
   "outputs": [
    {
     "data": {
      "text/html": [
       "<div>\n",
       "<style scoped>\n",
       "    .dataframe tbody tr th:only-of-type {\n",
       "        vertical-align: middle;\n",
       "    }\n",
       "\n",
       "    .dataframe tbody tr th {\n",
       "        vertical-align: top;\n",
       "    }\n",
       "\n",
       "    .dataframe thead th {\n",
       "        text-align: right;\n",
       "    }\n",
       "</style>\n",
       "<table border=\"1\" class=\"dataframe\">\n",
       "  <thead>\n",
       "    <tr style=\"text-align: right;\">\n",
       "      <th></th>\n",
       "      <th>Text_of_Speech</th>\n",
       "      <th>Emotion</th>\n",
       "    </tr>\n",
       "  </thead>\n",
       "  <tbody>\n",
       "    <tr>\n",
       "      <th>0</th>\n",
       "      <td>[esteemed, mr, lebedev, ladies, gentlemen, gat...</td>\n",
       "      <td>UPSET</td>\n",
       "    </tr>\n",
       "    <tr>\n",
       "      <th>1</th>\n",
       "      <td>[president, good, evening, fellow, americans, ...</td>\n",
       "      <td>OPTIMISM</td>\n",
       "    </tr>\n",
       "    <tr>\n",
       "      <th>2</th>\n",
       "      <td>[good, afternoon, dear, colleagues, meeting, t...</td>\n",
       "      <td>NEUTRAL</td>\n",
       "    </tr>\n",
       "    <tr>\n",
       "      <th>3</th>\n",
       "      <td>[good, afternoon, everybody, sound, system, re...</td>\n",
       "      <td>NEUTRAL</td>\n",
       "    </tr>\n",
       "    <tr>\n",
       "      <th>4</th>\n",
       "      <td>[americans, voted, 2020, elections, election, ...</td>\n",
       "      <td>UPSET</td>\n",
       "    </tr>\n",
       "    <tr>\n",
       "      <th>...</th>\n",
       "      <td>...</td>\n",
       "      <td>...</td>\n",
       "    </tr>\n",
       "    <tr>\n",
       "      <th>1612</th>\n",
       "      <td>[good, afternoon, see, majesty, queen, invited...</td>\n",
       "      <td>OPTIMISM</td>\n",
       "    </tr>\n",
       "    <tr>\n",
       "      <th>1613</th>\n",
       "      <td>[february, black, history, month, call, americ...</td>\n",
       "      <td>OPTIMISM</td>\n",
       "    </tr>\n",
       "    <tr>\n",
       "      <th>1614</th>\n",
       "      <td>[thank, much, everybody, seat, well, welcome, ...</td>\n",
       "      <td>NEUTRAL</td>\n",
       "    </tr>\n",
       "    <tr>\n",
       "      <th>1615</th>\n",
       "      <td>[colleagues, friends, 2013, president, xi, jin...</td>\n",
       "      <td>JOY</td>\n",
       "    </tr>\n",
       "    <tr>\n",
       "      <th>1616</th>\n",
       "      <td>[secretary, state, john, kerry, secretary, tre...</td>\n",
       "      <td>OPTIMISM</td>\n",
       "    </tr>\n",
       "  </tbody>\n",
       "</table>\n",
       "<p>1605 rows × 2 columns</p>\n",
       "</div>"
      ],
      "text/plain": [
       "                                         Text_of_Speech   Emotion\n",
       "0     [esteemed, mr, lebedev, ladies, gentlemen, gat...     UPSET\n",
       "1     [president, good, evening, fellow, americans, ...  OPTIMISM\n",
       "2     [good, afternoon, dear, colleagues, meeting, t...   NEUTRAL\n",
       "3     [good, afternoon, everybody, sound, system, re...   NEUTRAL\n",
       "4     [americans, voted, 2020, elections, election, ...     UPSET\n",
       "...                                                 ...       ...\n",
       "1612  [good, afternoon, see, majesty, queen, invited...  OPTIMISM\n",
       "1613  [february, black, history, month, call, americ...  OPTIMISM\n",
       "1614  [thank, much, everybody, seat, well, welcome, ...   NEUTRAL\n",
       "1615  [colleagues, friends, 2013, president, xi, jin...       JOY\n",
       "1616  [secretary, state, john, kerry, secretary, tre...  OPTIMISM\n",
       "\n",
       "[1605 rows x 2 columns]"
      ]
     },
     "execution_count": 30,
     "metadata": {},
     "output_type": "execute_result"
    }
   ],
   "source": [
    "df"
   ]
  },
  {
   "cell_type": "markdown",
   "id": "1fce92d7",
   "metadata": {},
   "source": [
    "# Removes Numbers"
   ]
  },
  {
   "cell_type": "code",
   "execution_count": 31,
   "id": "9f66759e",
   "metadata": {},
   "outputs": [],
   "source": [
    "def remove_num(data):\n",
    "    data=' '.join(data)\n",
    "    tag=re.compile(r'[0-9]+')\n",
    "    data=tag.sub(r' ',data)\n",
    "    return data\n",
    "df['Text_of_Speech']=df['Text_of_Speech'].apply(remove_num) "
   ]
  },
  {
   "cell_type": "code",
   "execution_count": 32,
   "id": "380ca54e",
   "metadata": {},
   "outputs": [
    {
     "data": {
      "text/html": [
       "<div>\n",
       "<style scoped>\n",
       "    .dataframe tbody tr th:only-of-type {\n",
       "        vertical-align: middle;\n",
       "    }\n",
       "\n",
       "    .dataframe tbody tr th {\n",
       "        vertical-align: top;\n",
       "    }\n",
       "\n",
       "    .dataframe thead th {\n",
       "        text-align: right;\n",
       "    }\n",
       "</style>\n",
       "<table border=\"1\" class=\"dataframe\">\n",
       "  <thead>\n",
       "    <tr style=\"text-align: right;\">\n",
       "      <th></th>\n",
       "      <th>Text_of_Speech</th>\n",
       "      <th>Emotion</th>\n",
       "    </tr>\n",
       "  </thead>\n",
       "  <tbody>\n",
       "    <tr>\n",
       "      <th>0</th>\n",
       "      <td>esteemed mr lebedev ladies gentlemen gathered ...</td>\n",
       "      <td>UPSET</td>\n",
       "    </tr>\n",
       "    <tr>\n",
       "      <th>1</th>\n",
       "      <td>president good evening fellow americans want t...</td>\n",
       "      <td>OPTIMISM</td>\n",
       "    </tr>\n",
       "    <tr>\n",
       "      <th>2</th>\n",
       "      <td>good afternoon dear colleagues meeting today d...</td>\n",
       "      <td>NEUTRAL</td>\n",
       "    </tr>\n",
       "    <tr>\n",
       "      <th>3</th>\n",
       "      <td>good afternoon everybody sound system really p...</td>\n",
       "      <td>NEUTRAL</td>\n",
       "    </tr>\n",
       "    <tr>\n",
       "      <th>4</th>\n",
       "      <td>americans voted   elections election nation ’ ...</td>\n",
       "      <td>UPSET</td>\n",
       "    </tr>\n",
       "    <tr>\n",
       "      <th>...</th>\n",
       "      <td>...</td>\n",
       "      <td>...</td>\n",
       "    </tr>\n",
       "    <tr>\n",
       "      <th>1612</th>\n",
       "      <td>good afternoon see majesty queen invited form ...</td>\n",
       "      <td>OPTIMISM</td>\n",
       "    </tr>\n",
       "    <tr>\n",
       "      <th>1613</th>\n",
       "      <td>february black history month call american peo...</td>\n",
       "      <td>OPTIMISM</td>\n",
       "    </tr>\n",
       "    <tr>\n",
       "      <th>1614</th>\n",
       "      <td>thank much everybody seat well welcome white h...</td>\n",
       "      <td>NEUTRAL</td>\n",
       "    </tr>\n",
       "    <tr>\n",
       "      <th>1615</th>\n",
       "      <td>colleagues friends   president xi jinping prop...</td>\n",
       "      <td>JOY</td>\n",
       "    </tr>\n",
       "    <tr>\n",
       "      <th>1616</th>\n",
       "      <td>secretary state john kerry secretary treasury ...</td>\n",
       "      <td>OPTIMISM</td>\n",
       "    </tr>\n",
       "  </tbody>\n",
       "</table>\n",
       "<p>1605 rows × 2 columns</p>\n",
       "</div>"
      ],
      "text/plain": [
       "                                         Text_of_Speech   Emotion\n",
       "0     esteemed mr lebedev ladies gentlemen gathered ...     UPSET\n",
       "1     president good evening fellow americans want t...  OPTIMISM\n",
       "2     good afternoon dear colleagues meeting today d...   NEUTRAL\n",
       "3     good afternoon everybody sound system really p...   NEUTRAL\n",
       "4     americans voted   elections election nation ’ ...     UPSET\n",
       "...                                                 ...       ...\n",
       "1612  good afternoon see majesty queen invited form ...  OPTIMISM\n",
       "1613  february black history month call american peo...  OPTIMISM\n",
       "1614  thank much everybody seat well welcome white h...   NEUTRAL\n",
       "1615  colleagues friends   president xi jinping prop...       JOY\n",
       "1616  secretary state john kerry secretary treasury ...  OPTIMISM\n",
       "\n",
       "[1605 rows x 2 columns]"
      ]
     },
     "execution_count": 32,
     "metadata": {},
     "output_type": "execute_result"
    }
   ],
   "source": [
    "df"
   ]
  },
  {
   "cell_type": "markdown",
   "id": "6eb100f2",
   "metadata": {},
   "source": [
    "# remove roamns if present"
   ]
  },
  {
   "cell_type": "code",
   "execution_count": 33,
   "id": "3ff37b77",
   "metadata": {},
   "outputs": [],
   "source": [
    "def remove_roman(data):\n",
    "    en_tag =re.compile(r'^M{0,4}(CM|CD|D?C{0,3})(XC|XL|L?X{0,3})(IX|IV|V?I{0,3})$')\n",
    "    data=en_tag.sub(r' ',data)\n",
    "    return data\n",
    "df['Text_of_Speech']=df['Text_of_Speech'].apply(remove_roman)"
   ]
  },
  {
   "cell_type": "code",
   "execution_count": 34,
   "id": "86e73bb0",
   "metadata": {},
   "outputs": [
    {
     "data": {
      "text/html": [
       "<div>\n",
       "<style scoped>\n",
       "    .dataframe tbody tr th:only-of-type {\n",
       "        vertical-align: middle;\n",
       "    }\n",
       "\n",
       "    .dataframe tbody tr th {\n",
       "        vertical-align: top;\n",
       "    }\n",
       "\n",
       "    .dataframe thead th {\n",
       "        text-align: right;\n",
       "    }\n",
       "</style>\n",
       "<table border=\"1\" class=\"dataframe\">\n",
       "  <thead>\n",
       "    <tr style=\"text-align: right;\">\n",
       "      <th></th>\n",
       "      <th>Text_of_Speech</th>\n",
       "      <th>Emotion</th>\n",
       "    </tr>\n",
       "  </thead>\n",
       "  <tbody>\n",
       "    <tr>\n",
       "      <th>0</th>\n",
       "      <td>esteemed mr lebedev ladies gentlemen gathered ...</td>\n",
       "      <td>UPSET</td>\n",
       "    </tr>\n",
       "    <tr>\n",
       "      <th>1</th>\n",
       "      <td>president good evening fellow americans want t...</td>\n",
       "      <td>OPTIMISM</td>\n",
       "    </tr>\n",
       "    <tr>\n",
       "      <th>2</th>\n",
       "      <td>good afternoon dear colleagues meeting today d...</td>\n",
       "      <td>NEUTRAL</td>\n",
       "    </tr>\n",
       "    <tr>\n",
       "      <th>3</th>\n",
       "      <td>good afternoon everybody sound system really p...</td>\n",
       "      <td>NEUTRAL</td>\n",
       "    </tr>\n",
       "    <tr>\n",
       "      <th>4</th>\n",
       "      <td>americans voted   elections election nation ’ ...</td>\n",
       "      <td>UPSET</td>\n",
       "    </tr>\n",
       "    <tr>\n",
       "      <th>...</th>\n",
       "      <td>...</td>\n",
       "      <td>...</td>\n",
       "    </tr>\n",
       "    <tr>\n",
       "      <th>1612</th>\n",
       "      <td>good afternoon see majesty queen invited form ...</td>\n",
       "      <td>OPTIMISM</td>\n",
       "    </tr>\n",
       "    <tr>\n",
       "      <th>1613</th>\n",
       "      <td>february black history month call american peo...</td>\n",
       "      <td>OPTIMISM</td>\n",
       "    </tr>\n",
       "    <tr>\n",
       "      <th>1614</th>\n",
       "      <td>thank much everybody seat well welcome white h...</td>\n",
       "      <td>NEUTRAL</td>\n",
       "    </tr>\n",
       "    <tr>\n",
       "      <th>1615</th>\n",
       "      <td>colleagues friends   president xi jinping prop...</td>\n",
       "      <td>JOY</td>\n",
       "    </tr>\n",
       "    <tr>\n",
       "      <th>1616</th>\n",
       "      <td>secretary state john kerry secretary treasury ...</td>\n",
       "      <td>OPTIMISM</td>\n",
       "    </tr>\n",
       "  </tbody>\n",
       "</table>\n",
       "<p>1605 rows × 2 columns</p>\n",
       "</div>"
      ],
      "text/plain": [
       "                                         Text_of_Speech   Emotion\n",
       "0     esteemed mr lebedev ladies gentlemen gathered ...     UPSET\n",
       "1     president good evening fellow americans want t...  OPTIMISM\n",
       "2     good afternoon dear colleagues meeting today d...   NEUTRAL\n",
       "3     good afternoon everybody sound system really p...   NEUTRAL\n",
       "4     americans voted   elections election nation ’ ...     UPSET\n",
       "...                                                 ...       ...\n",
       "1612  good afternoon see majesty queen invited form ...  OPTIMISM\n",
       "1613  february black history month call american peo...  OPTIMISM\n",
       "1614  thank much everybody seat well welcome white h...   NEUTRAL\n",
       "1615  colleagues friends   president xi jinping prop...       JOY\n",
       "1616  secretary state john kerry secretary treasury ...  OPTIMISM\n",
       "\n",
       "[1605 rows x 2 columns]"
      ]
     },
     "execution_count": 34,
     "metadata": {},
     "output_type": "execute_result"
    }
   ],
   "source": [
    "df"
   ]
  },
  {
   "cell_type": "markdown",
   "id": "6bd4ad60",
   "metadata": {},
   "source": [
    "# Remove redundant words"
   ]
  },
  {
   "cell_type": "code",
   "execution_count": 35,
   "id": "2399e185",
   "metadata": {},
   "outputs": [],
   "source": [
    "def remove_redun(data):\n",
    "    red_tag=re.compile(r'[?<=(  )\\\\]|[&&|\\|\\|-]')\n",
    "    data=red_tag.sub(r' ',data)\n",
    "    data=data.split(\" \")\n",
    "    return data\n",
    "df['Text_of_Speech']=df['Text_of_Speech'].apply(remove_redun)"
   ]
  },
  {
   "cell_type": "code",
   "execution_count": 36,
   "id": "0c3a6396",
   "metadata": {},
   "outputs": [
    {
     "data": {
      "text/html": [
       "<div>\n",
       "<style scoped>\n",
       "    .dataframe tbody tr th:only-of-type {\n",
       "        vertical-align: middle;\n",
       "    }\n",
       "\n",
       "    .dataframe tbody tr th {\n",
       "        vertical-align: top;\n",
       "    }\n",
       "\n",
       "    .dataframe thead th {\n",
       "        text-align: right;\n",
       "    }\n",
       "</style>\n",
       "<table border=\"1\" class=\"dataframe\">\n",
       "  <thead>\n",
       "    <tr style=\"text-align: right;\">\n",
       "      <th></th>\n",
       "      <th>Text_of_Speech</th>\n",
       "      <th>Emotion</th>\n",
       "    </tr>\n",
       "  </thead>\n",
       "  <tbody>\n",
       "    <tr>\n",
       "      <th>0</th>\n",
       "      <td>[esteemed, mr, lebedev, ladies, gentlemen, gat...</td>\n",
       "      <td>UPSET</td>\n",
       "    </tr>\n",
       "    <tr>\n",
       "      <th>1</th>\n",
       "      <td>[president, good, evening, fellow, americans, ...</td>\n",
       "      <td>OPTIMISM</td>\n",
       "    </tr>\n",
       "    <tr>\n",
       "      <th>2</th>\n",
       "      <td>[good, afternoon, dear, colleagues, meeting, t...</td>\n",
       "      <td>NEUTRAL</td>\n",
       "    </tr>\n",
       "    <tr>\n",
       "      <th>3</th>\n",
       "      <td>[good, afternoon, everybody, sound, system, re...</td>\n",
       "      <td>NEUTRAL</td>\n",
       "    </tr>\n",
       "    <tr>\n",
       "      <th>4</th>\n",
       "      <td>[americans, voted, , , elections, election, na...</td>\n",
       "      <td>UPSET</td>\n",
       "    </tr>\n",
       "    <tr>\n",
       "      <th>...</th>\n",
       "      <td>...</td>\n",
       "      <td>...</td>\n",
       "    </tr>\n",
       "    <tr>\n",
       "      <th>1612</th>\n",
       "      <td>[good, afternoon, see, majesty, queen, invited...</td>\n",
       "      <td>OPTIMISM</td>\n",
       "    </tr>\n",
       "    <tr>\n",
       "      <th>1613</th>\n",
       "      <td>[february, black, history, month, call, americ...</td>\n",
       "      <td>OPTIMISM</td>\n",
       "    </tr>\n",
       "    <tr>\n",
       "      <th>1614</th>\n",
       "      <td>[thank, much, everybody, seat, well, welcome, ...</td>\n",
       "      <td>NEUTRAL</td>\n",
       "    </tr>\n",
       "    <tr>\n",
       "      <th>1615</th>\n",
       "      <td>[colleagues, friends, , , president, xi, jinpi...</td>\n",
       "      <td>JOY</td>\n",
       "    </tr>\n",
       "    <tr>\n",
       "      <th>1616</th>\n",
       "      <td>[secretary, state, john, kerry, secretary, tre...</td>\n",
       "      <td>OPTIMISM</td>\n",
       "    </tr>\n",
       "  </tbody>\n",
       "</table>\n",
       "<p>1605 rows × 2 columns</p>\n",
       "</div>"
      ],
      "text/plain": [
       "                                         Text_of_Speech   Emotion\n",
       "0     [esteemed, mr, lebedev, ladies, gentlemen, gat...     UPSET\n",
       "1     [president, good, evening, fellow, americans, ...  OPTIMISM\n",
       "2     [good, afternoon, dear, colleagues, meeting, t...   NEUTRAL\n",
       "3     [good, afternoon, everybody, sound, system, re...   NEUTRAL\n",
       "4     [americans, voted, , , elections, election, na...     UPSET\n",
       "...                                                 ...       ...\n",
       "1612  [good, afternoon, see, majesty, queen, invited...  OPTIMISM\n",
       "1613  [february, black, history, month, call, americ...  OPTIMISM\n",
       "1614  [thank, much, everybody, seat, well, welcome, ...   NEUTRAL\n",
       "1615  [colleagues, friends, , , president, xi, jinpi...       JOY\n",
       "1616  [secretary, state, john, kerry, secretary, tre...  OPTIMISM\n",
       "\n",
       "[1605 rows x 2 columns]"
      ]
     },
     "execution_count": 36,
     "metadata": {},
     "output_type": "execute_result"
    }
   ],
   "source": [
    "df"
   ]
  },
  {
   "cell_type": "markdown",
   "id": "8f90fc22",
   "metadata": {},
   "source": [
    "# stemming"
   ]
  },
  {
   "cell_type": "code",
   "execution_count": 37,
   "id": "dbb1c445",
   "metadata": {},
   "outputs": [],
   "source": [
    "# from nltk.stem.porter import PorterStemmer\n",
    "# def stemm(x):\n",
    "#     l=[]\n",
    "#     for i in x:\n",
    "#         l.append(PorterStemmer().stem(i))\n",
    "#     return l    \n",
    "# df['Text_of_Speech']=df['Text_of_Speech'].apply(stemm)  "
   ]
  },
  {
   "cell_type": "code",
   "execution_count": 38,
   "id": "47765e2c",
   "metadata": {},
   "outputs": [],
   "source": [
    "# df"
   ]
  },
  {
   "cell_type": "markdown",
   "id": "f3821b43",
   "metadata": {},
   "source": [
    "# lemmatiazation"
   ]
  },
  {
   "cell_type": "markdown",
   "id": "2e16ef1d",
   "metadata": {},
   "source": [
    "technique that reduces words to their base or dictionary form, ensuring variants of a word are transformed to a common root. "
   ]
  },
  {
   "cell_type": "code",
   "execution_count": 39,
   "id": "12a6986c",
   "metadata": {},
   "outputs": [],
   "source": [
    "from nltk.stem import WordNetLemmatizer\n",
    "def lemm(x):\n",
    "    l=[]\n",
    "    for i in x:\n",
    "        l.append(WordNetLemmatizer().lemmatize(i))\n",
    "    return l    \n",
    "df['Text_of_Speech']=df['Text_of_Speech'].apply(lemm)"
   ]
  },
  {
   "cell_type": "code",
   "execution_count": 40,
   "id": "c4792efc",
   "metadata": {},
   "outputs": [
    {
     "data": {
      "text/html": [
       "<div>\n",
       "<style scoped>\n",
       "    .dataframe tbody tr th:only-of-type {\n",
       "        vertical-align: middle;\n",
       "    }\n",
       "\n",
       "    .dataframe tbody tr th {\n",
       "        vertical-align: top;\n",
       "    }\n",
       "\n",
       "    .dataframe thead th {\n",
       "        text-align: right;\n",
       "    }\n",
       "</style>\n",
       "<table border=\"1\" class=\"dataframe\">\n",
       "  <thead>\n",
       "    <tr style=\"text-align: right;\">\n",
       "      <th></th>\n",
       "      <th>Text_of_Speech</th>\n",
       "      <th>Emotion</th>\n",
       "    </tr>\n",
       "  </thead>\n",
       "  <tbody>\n",
       "    <tr>\n",
       "      <th>0</th>\n",
       "      <td>[esteemed, mr, lebedev, lady, gentleman, gathe...</td>\n",
       "      <td>UPSET</td>\n",
       "    </tr>\n",
       "    <tr>\n",
       "      <th>1</th>\n",
       "      <td>[president, good, evening, fellow, american, w...</td>\n",
       "      <td>OPTIMISM</td>\n",
       "    </tr>\n",
       "    <tr>\n",
       "      <th>2</th>\n",
       "      <td>[good, afternoon, dear, colleague, meeting, to...</td>\n",
       "      <td>NEUTRAL</td>\n",
       "    </tr>\n",
       "    <tr>\n",
       "      <th>3</th>\n",
       "      <td>[good, afternoon, everybody, sound, system, re...</td>\n",
       "      <td>NEUTRAL</td>\n",
       "    </tr>\n",
       "    <tr>\n",
       "      <th>4</th>\n",
       "      <td>[american, voted, , , election, election, nati...</td>\n",
       "      <td>UPSET</td>\n",
       "    </tr>\n",
       "    <tr>\n",
       "      <th>...</th>\n",
       "      <td>...</td>\n",
       "      <td>...</td>\n",
       "    </tr>\n",
       "    <tr>\n",
       "      <th>1612</th>\n",
       "      <td>[good, afternoon, see, majesty, queen, invited...</td>\n",
       "      <td>OPTIMISM</td>\n",
       "    </tr>\n",
       "    <tr>\n",
       "      <th>1613</th>\n",
       "      <td>[february, black, history, month, call, americ...</td>\n",
       "      <td>OPTIMISM</td>\n",
       "    </tr>\n",
       "    <tr>\n",
       "      <th>1614</th>\n",
       "      <td>[thank, much, everybody, seat, well, welcome, ...</td>\n",
       "      <td>NEUTRAL</td>\n",
       "    </tr>\n",
       "    <tr>\n",
       "      <th>1615</th>\n",
       "      <td>[colleague, friend, , , president, xi, jinping...</td>\n",
       "      <td>JOY</td>\n",
       "    </tr>\n",
       "    <tr>\n",
       "      <th>1616</th>\n",
       "      <td>[secretary, state, john, kerry, secretary, tre...</td>\n",
       "      <td>OPTIMISM</td>\n",
       "    </tr>\n",
       "  </tbody>\n",
       "</table>\n",
       "<p>1605 rows × 2 columns</p>\n",
       "</div>"
      ],
      "text/plain": [
       "                                         Text_of_Speech   Emotion\n",
       "0     [esteemed, mr, lebedev, lady, gentleman, gathe...     UPSET\n",
       "1     [president, good, evening, fellow, american, w...  OPTIMISM\n",
       "2     [good, afternoon, dear, colleague, meeting, to...   NEUTRAL\n",
       "3     [good, afternoon, everybody, sound, system, re...   NEUTRAL\n",
       "4     [american, voted, , , election, election, nati...     UPSET\n",
       "...                                                 ...       ...\n",
       "1612  [good, afternoon, see, majesty, queen, invited...  OPTIMISM\n",
       "1613  [february, black, history, month, call, americ...  OPTIMISM\n",
       "1614  [thank, much, everybody, seat, well, welcome, ...   NEUTRAL\n",
       "1615  [colleague, friend, , , president, xi, jinping...       JOY\n",
       "1616  [secretary, state, john, kerry, secretary, tre...  OPTIMISM\n",
       "\n",
       "[1605 rows x 2 columns]"
      ]
     },
     "execution_count": 40,
     "metadata": {},
     "output_type": "execute_result"
    }
   ],
   "source": [
    "df"
   ]
  },
  {
   "cell_type": "markdown",
   "id": "5b8205a3",
   "metadata": {},
   "source": [
    "# combine again to speech"
   ]
  },
  {
   "cell_type": "code",
   "execution_count": 41,
   "id": "d327a61e",
   "metadata": {},
   "outputs": [],
   "source": [
    "def combine(x):\n",
    "    return ' '.join(x)\n",
    "df['Text_of_Speech']=df['Text_of_Speech'].apply(combine)"
   ]
  },
  {
   "cell_type": "code",
   "execution_count": 42,
   "id": "cf253962",
   "metadata": {},
   "outputs": [
    {
     "data": {
      "text/html": [
       "<div>\n",
       "<style scoped>\n",
       "    .dataframe tbody tr th:only-of-type {\n",
       "        vertical-align: middle;\n",
       "    }\n",
       "\n",
       "    .dataframe tbody tr th {\n",
       "        vertical-align: top;\n",
       "    }\n",
       "\n",
       "    .dataframe thead th {\n",
       "        text-align: right;\n",
       "    }\n",
       "</style>\n",
       "<table border=\"1\" class=\"dataframe\">\n",
       "  <thead>\n",
       "    <tr style=\"text-align: right;\">\n",
       "      <th></th>\n",
       "      <th>Text_of_Speech</th>\n",
       "      <th>Emotion</th>\n",
       "    </tr>\n",
       "  </thead>\n",
       "  <tbody>\n",
       "    <tr>\n",
       "      <th>0</th>\n",
       "      <td>esteemed mr lebedev lady gentleman gathered su...</td>\n",
       "      <td>UPSET</td>\n",
       "    </tr>\n",
       "    <tr>\n",
       "      <th>1</th>\n",
       "      <td>president good evening fellow american want ta...</td>\n",
       "      <td>OPTIMISM</td>\n",
       "    </tr>\n",
       "    <tr>\n",
       "      <th>2</th>\n",
       "      <td>good afternoon dear colleague meeting today de...</td>\n",
       "      <td>NEUTRAL</td>\n",
       "    </tr>\n",
       "    <tr>\n",
       "      <th>3</th>\n",
       "      <td>good afternoon everybody sound system really p...</td>\n",
       "      <td>NEUTRAL</td>\n",
       "    </tr>\n",
       "    <tr>\n",
       "      <th>4</th>\n",
       "      <td>american voted   election election nation ’ hi...</td>\n",
       "      <td>UPSET</td>\n",
       "    </tr>\n",
       "    <tr>\n",
       "      <th>...</th>\n",
       "      <td>...</td>\n",
       "      <td>...</td>\n",
       "    </tr>\n",
       "    <tr>\n",
       "      <th>1612</th>\n",
       "      <td>good afternoon see majesty queen invited form ...</td>\n",
       "      <td>OPTIMISM</td>\n",
       "    </tr>\n",
       "    <tr>\n",
       "      <th>1613</th>\n",
       "      <td>february black history month call american peo...</td>\n",
       "      <td>OPTIMISM</td>\n",
       "    </tr>\n",
       "    <tr>\n",
       "      <th>1614</th>\n",
       "      <td>thank much everybody seat well welcome white h...</td>\n",
       "      <td>NEUTRAL</td>\n",
       "    </tr>\n",
       "    <tr>\n",
       "      <th>1615</th>\n",
       "      <td>colleague friend   president xi jinping propos...</td>\n",
       "      <td>JOY</td>\n",
       "    </tr>\n",
       "    <tr>\n",
       "      <th>1616</th>\n",
       "      <td>secretary state john kerry secretary treasury ...</td>\n",
       "      <td>OPTIMISM</td>\n",
       "    </tr>\n",
       "  </tbody>\n",
       "</table>\n",
       "<p>1605 rows × 2 columns</p>\n",
       "</div>"
      ],
      "text/plain": [
       "                                         Text_of_Speech   Emotion\n",
       "0     esteemed mr lebedev lady gentleman gathered su...     UPSET\n",
       "1     president good evening fellow american want ta...  OPTIMISM\n",
       "2     good afternoon dear colleague meeting today de...   NEUTRAL\n",
       "3     good afternoon everybody sound system really p...   NEUTRAL\n",
       "4     american voted   election election nation ’ hi...     UPSET\n",
       "...                                                 ...       ...\n",
       "1612  good afternoon see majesty queen invited form ...  OPTIMISM\n",
       "1613  february black history month call american peo...  OPTIMISM\n",
       "1614  thank much everybody seat well welcome white h...   NEUTRAL\n",
       "1615  colleague friend   president xi jinping propos...       JOY\n",
       "1616  secretary state john kerry secretary treasury ...  OPTIMISM\n",
       "\n",
       "[1605 rows x 2 columns]"
      ]
     },
     "execution_count": 42,
     "metadata": {},
     "output_type": "execute_result"
    }
   ],
   "source": [
    "df"
   ]
  },
  {
   "cell_type": "code",
   "execution_count": 43,
   "id": "739b62b8",
   "metadata": {},
   "outputs": [],
   "source": [
    "X=df['Text_of_Speech']\n",
    "Y=df['Emotion']"
   ]
  },
  {
   "cell_type": "code",
   "execution_count": 44,
   "id": "cc255293",
   "metadata": {},
   "outputs": [],
   "source": [
    "import numpy as np\n",
    "from sklearn.metrics import classification_report\n",
    "from sklearn.model_selection import train_test_split\n",
    "from gensim.models import KeyedVectors\n",
    "X_train, X_test, y_train, y_test = train_test_split(X, Y, test_size=0.2)"
   ]
  },
  {
   "cell_type": "code",
   "execution_count": 45,
   "id": "eb77ee52",
   "metadata": {},
   "outputs": [],
   "source": [
    "import gensim"
   ]
  },
  {
   "cell_type": "code",
   "execution_count": 46,
   "id": "1addd70f",
   "metadata": {},
   "outputs": [],
   "source": [
    "X_train_vect_avg = []\n",
    "X_test_vect_avg = []\n",
    "X_train, X_test, y_train, y_test = train_test_split(X, Y, test_size=0.3)\n",
    "w2v_model = gensim.models.Word2Vec(X_train, vector_size=100, window=5, min_count=2)\n",
    "words = set(w2v_model.wv.index_to_key)\n",
    "X_train_vect = np.array(\n",
    "    [np.array([w2v_model.wv[i] for i in ls if i in words]) for ls in X_train]\n",
    ")\n",
    "X_test_vect = np.array(\n",
    "    [np.array([w2v_model.wv[i] for i in ls if i in words]) for ls in X_test]\n",
    ")\n",
    "X_train_vect_avg = []\n",
    "for v in X_train_vect:\n",
    "    if v.size:\n",
    "        X_train_vect_avg.append(v.mean(axis=0))\n",
    "    else:\n",
    "        X_train_vect_avg.append(np.zeros(100, dtype=float))\n",
    "X_test_vect_avg = []\n",
    "for v in X_test_vect:\n",
    "    if v.size:\n",
    "        X_test_vect_avg.append(v.mean(axis=0))\n",
    "    else:\n",
    "        X_test_vect_avg.append(np.zeros(100, dtype=float))\n",
    "X_train_vtc = X_train_vect_avg\n",
    "X_test_vtc = X_test_vect_avg\n",
    "y_train = y_train.values.ravel()\n",
    "X_train = X_train_vect_avg\n",
    "X_test = X_test_vect_avg\n"
   ]
  },
  {
   "cell_type": "code",
   "execution_count": 47,
   "id": "fab3016b",
   "metadata": {},
   "outputs": [
    {
     "name": "stdout",
     "output_type": "stream",
     "text": [
      "              precision    recall  f1-score   support\n",
      "\n",
      "         JOY       0.54      0.21      0.31       140\n",
      "     NEUTRAL       0.37      0.73      0.49       134\n",
      "    OPTIMISM       0.37      0.46      0.41       130\n",
      "       UPSET       0.00      0.00      0.00        78\n",
      "\n",
      "    accuracy                           0.39       482\n",
      "   macro avg       0.32      0.35      0.30       482\n",
      "weighted avg       0.36      0.39      0.34       482\n",
      "\n"
     ]
    }
   ],
   "source": [
    "from sklearn.linear_model import LogisticRegression\n",
    "model_l=LogisticRegression().fit(X_train,y_train)\n",
    "y_pred=model_l.predict(X_test)\n",
    "score=classification_report(y_test, y_pred)\n",
    "print(score)"
   ]
  },
  {
   "cell_type": "code",
   "execution_count": 48,
   "id": "514ea7cd",
   "metadata": {},
   "outputs": [
    {
     "name": "stdout",
     "output_type": "stream",
     "text": [
      "              precision    recall  f1-score   support\n",
      "\n",
      "         JOY       0.45      0.06      0.11       140\n",
      "     NEUTRAL       0.37      0.72      0.49       134\n",
      "    OPTIMISM       0.34      0.52      0.41       130\n",
      "       UPSET       0.00      0.00      0.00        78\n",
      "\n",
      "    accuracy                           0.36       482\n",
      "   macro avg       0.29      0.33      0.25       482\n",
      "weighted avg       0.32      0.36      0.28       482\n",
      "\n"
     ]
    }
   ],
   "source": [
    "from sklearn.svm import SVC\n",
    "rf_kn =SVC()\n",
    "rf_model_kn = rf_kn.fit(X_train, y_train)\n",
    "y_pred = rf_model_kn.predict(X_test)\n",
    "score1=classification_report(y_test, y_pred)\n",
    "print(score1)"
   ]
  },
  {
   "cell_type": "code",
   "execution_count": 49,
   "id": "9b9e24f3",
   "metadata": {},
   "outputs": [
    {
     "name": "stdout",
     "output_type": "stream",
     "text": [
      "              precision    recall  f1-score   support\n",
      "\n",
      "         JOY       0.35      0.36      0.35       140\n",
      "     NEUTRAL       0.40      0.43      0.41       134\n",
      "    OPTIMISM       0.35      0.33      0.34       130\n",
      "       UPSET       0.29      0.27      0.28        78\n",
      "\n",
      "    accuracy                           0.35       482\n",
      "   macro avg       0.35      0.35      0.35       482\n",
      "weighted avg       0.35      0.35      0.35       482\n",
      "\n"
     ]
    }
   ],
   "source": [
    "from sklearn.tree import DecisionTreeClassifier\n",
    "rf_kn = DecisionTreeClassifier()\n",
    "rf_model_kn = rf_kn.fit(X_train, y_train)\n",
    "y_pred = rf_model_kn.predict(X_test)\n",
    "score1=classification_report(y_test, y_pred)\n",
    "print(score1)"
   ]
  },
  {
   "cell_type": "code",
   "execution_count": 50,
   "id": "8e9991a3",
   "metadata": {},
   "outputs": [
    {
     "name": "stdout",
     "output_type": "stream",
     "text": [
      "              precision    recall  f1-score   support\n",
      "\n",
      "         JOY       0.45      0.41      0.43       140\n",
      "     NEUTRAL       0.45      0.56      0.50       134\n",
      "    OPTIMISM       0.33      0.42      0.37       130\n",
      "       UPSET       0.48      0.14      0.22        78\n",
      "\n",
      "    accuracy                           0.41       482\n",
      "   macro avg       0.43      0.38      0.38       482\n",
      "weighted avg       0.42      0.41      0.40       482\n",
      "\n"
     ]
    }
   ],
   "source": [
    "from sklearn.ensemble import RandomForestClassifier\n",
    "rf_kn = RandomForestClassifier()\n",
    "rf_model_kn = rf_kn.fit(X_train, y_train)\n",
    "y_pred = rf_model_kn.predict(X_test)\n",
    "score1=classification_report(y_test, y_pred)\n",
    "print(score1)"
   ]
  },
  {
   "cell_type": "code",
   "execution_count": null,
   "id": "74aee037",
   "metadata": {},
   "outputs": [],
   "source": []
  }
 ],
 "metadata": {
  "kernelspec": {
   "display_name": "Python 3 (ipykernel)",
   "language": "python",
   "name": "python3"
  },
  "language_info": {
   "codemirror_mode": {
    "name": "ipython",
    "version": 3
   },
   "file_extension": ".py",
   "mimetype": "text/x-python",
   "name": "python",
   "nbconvert_exporter": "python",
   "pygments_lexer": "ipython3",
   "version": "3.10.11"
  }
 },
 "nbformat": 4,
 "nbformat_minor": 5
}
